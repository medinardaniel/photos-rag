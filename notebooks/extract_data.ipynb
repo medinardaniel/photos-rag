{
 "cells": [
  {
   "cell_type": "markdown",
   "metadata": {},
   "source": [
    "# Extract Data"
   ]
  },
  {
   "cell_type": "code",
   "execution_count": 6,
   "metadata": {},
   "outputs": [],
   "source": [
    "import osxphotos\n",
    "from geopy.geocoders import Nominatim\n",
    "import csv\n",
    "import time"
   ]
  },
  {
   "cell_type": "code",
   "execution_count": 7,
   "metadata": {},
   "outputs": [],
   "source": [
    "geolocator = Nominatim(user_agent=\"photorag-dm\")\n",
    "\n",
    "def geocode_location(latitude, longitude):\n",
    "    try:\n",
    "        location = geolocator.reverse((latitude, longitude), exactly_one=True)\n",
    "        if location:\n",
    "            address = location.raw.get('address', {})\n",
    "            # Attempt to find the most specific location information available\n",
    "            city = address.get('city', '')\n",
    "            state = address.get('state', '')\n",
    "            country = address.get('country', '')\n",
    "\n",
    "            location_detail = f\"{city}, {state}, {country}\" if city else f\"{state}, {country}\"\n",
    "            \n",
    "            return location_detail if location_detail.strip() else \"Unknown Location\"\n",
    "        else:\n",
    "            return \"Unknown Location\"\n",
    "    except Exception as e:\n",
    "        print(f\"Error during geocoding: {e}\")\n",
    "        return \"Error\"\n",
    "    finally:\n",
    "        # Wait for 1 second to respect Nominatim's usage policy\n",
    "        time.sleep(1)\n"
   ]
  },
  {
   "cell_type": "code",
   "execution_count": 8,
   "metadata": {},
   "outputs": [],
   "source": [
    "def get_keywords_location(folder_name):\n",
    "    photosdb = osxphotos.PhotosDB()\n",
    "    photos = photosdb.photos(albums=[folder_name])\n",
    "    \n",
    "    photo_metadata = {}\n",
    "    \n",
    "    for photo in photos:\n",
    "        filename = photo.original_filename\n",
    "        # if HEIC in filename, replace with jpeg\n",
    "        if filename.endswith(\".HEIC\"):\n",
    "            filename = filename.replace(\".HEIC\", \".jpeg\")\n",
    "        keywords = photo.keywords\n",
    "        date = photo.date\n",
    "        location = \"\"\n",
    "        if photo.location and photo.location != (None, None):\n",
    "            latitude, longitude = photo.location\n",
    "            location = geocode_location(latitude, longitude)\n",
    "        \n",
    "        photo_metadata[filename] = (keywords, location, date)\n",
    "    \n",
    "    return photo_metadata"
   ]
  },
  {
   "cell_type": "code",
   "execution_count": 9,
   "metadata": {},
   "outputs": [],
   "source": [
    "def get_metadata(folder_name, output_file):\n",
    "    photo_metadata = get_keywords_location(folder_name)\n",
    "    \n",
    "    with open(output_file, mode='w', newline='', encoding='utf-8') as file:\n",
    "        writer = csv.writer(file)\n",
    "        writer.writerow([\"filename\", \"people\", \"location\", \"date\"])\n",
    "        \n",
    "        for filename, (keywords, location, date) in photo_metadata.items():\n",
    "            # Convert keywords list to a string separated by commas\n",
    "            keywords_str = ', '.join(keywords)\n",
    "            # Ensure location is treated as a single string\n",
    "            # Assuming location is a string already formatted correctly (e.g., \"City, State, Country\")\n",
    "            writer.writerow([filename, keywords_str, location, date])"
   ]
  },
  {
   "cell_type": "code",
   "execution_count": 10,
   "metadata": {},
   "outputs": [
    {
     "name": "stderr",
     "output_type": "stream",
     "text": [
      "2024-02-10 20:26:21,870 - urllib3.connectionpool - WARNING - connectionpool.py - 874 - Retrying (Retry(total=1, connect=None, read=None, redirect=None, status=None)) after connection broken by 'ReadTimeoutError(\"HTTPSConnectionPool(host='nominatim.openstreetmap.org', port=443): Read timed out. (read timeout=1)\")': /reverse?lat=48.8567879&lon=2.3510768&format=json&addressdetails=1\n",
      "2024-02-10 20:26:23,109 - urllib3.connectionpool - WARNING - connectionpool.py - 874 - Retrying (Retry(total=0, connect=None, read=None, redirect=None, status=None)) after connection broken by 'ReadTimeoutError(\"HTTPSConnectionPool(host='nominatim.openstreetmap.org', port=443): Read timed out. (read timeout=1)\")': /reverse?lat=48.8567879&lon=2.3510768&format=json&addressdetails=1\n"
     ]
    },
    {
     "name": "stdout",
     "output_type": "stream",
     "text": [
      "Error during geocoding: HTTPSConnectionPool(host='nominatim.openstreetmap.org', port=443): Max retries exceeded with url: /reverse?lat=48.8567879&lon=2.3510768&format=json&addressdetails=1 (Caused by ReadTimeoutError(\"HTTPSConnectionPool(host='nominatim.openstreetmap.org', port=443): Read timed out. (read timeout=1)\"))\n"
     ]
    }
   ],
   "source": [
    "folder_name = \"RAG App\"  # Change to your folder name\n",
    "output_file = \"output/photo_metadata.csv\"\n",
    "get_metadata(folder_name, output_file)"
   ]
  },
  {
   "cell_type": "code",
   "execution_count": null,
   "metadata": {},
   "outputs": [],
   "source": []
  }
 ],
 "metadata": {
  "kernelspec": {
   "display_name": "env",
   "language": "python",
   "name": "python3"
  },
  "language_info": {
   "codemirror_mode": {
    "name": "ipython",
    "version": 3
   },
   "file_extension": ".py",
   "mimetype": "text/x-python",
   "name": "python",
   "nbconvert_exporter": "python",
   "pygments_lexer": "ipython3",
   "version": "3.11.6"
  },
  "orig_nbformat": 4
 },
 "nbformat": 4,
 "nbformat_minor": 2
}
