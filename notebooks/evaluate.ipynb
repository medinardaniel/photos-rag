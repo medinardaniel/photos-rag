{
 "cells": [
  {
   "cell_type": "markdown",
   "metadata": {},
   "source": [
    "# Evaluate Performance of RAG vs. Non-RAG\n",
    "In this notebook, we will be assessing the performance of RAG vs. Non-RAG for the application by calculating the cosing similarity between the expected image caption and the captions generated with RAG and without RAG."
   ]
  },
  {
   "cell_type": "code",
   "execution_count": 42,
   "metadata": {},
   "outputs": [],
   "source": [
    "import openai as OpenAI\n",
    "from transformers import BertModel, BertTokenizer\n",
    "import torch\n",
    "from dotenv import load_dotenv\n",
    "import os\n",
    "import requests\n",
    "import numpy as np\n",
    "import matplotlib.pyplot as plt\n",
    "from scipy import stats"
   ]
  },
  {
   "cell_type": "markdown",
   "metadata": {},
   "source": [
    "### Evaluation Data"
   ]
  },
  {
   "cell_type": "code",
   "execution_count": 43,
   "metadata": {},
   "outputs": [],
   "source": [
    "# generate sample data for testing\n",
    "test_query_1 = \"Daniel, Santiago, Pipe, and Kika wearing Michigan gear\"\n",
    "test_query_2 = \"Daniel enjoying beers with Azul, Javier, Julio, Will, and Pablo in Ann Arbor\"\n",
    "test_query_3 = \"Daniel, Santiago, Juan, Graciela, and Pipe hiking in Mount Rainier\"\n",
    "test_query_4 = \"Julio and Azul enjoying a drink in Ann Arbor\"\n",
    "test_query_5 = \"Daniel and Sri celebrating a Duke Football win\"\n",
    "test_query_6 = \"Santiago and Graciela having lunch in Seattle, Washington\"\n",
    "test_query_7 = \"Daniel, Santiago, and Will enjoying a ski day in Mount Holly, Michigan\"\n",
    "test_query_8 = \"Santiago and Julio having dinner and drinking wine in Ann Arbor\"\n",
    "test_query_9 = \"Javier, Santiago, Daniel, and Julio dressed up on their way to a Gala in Ann Arbor\"\n",
    "test_query_10 = \"Juan, Graciela, Santiago, and Daniel at Santiago's graduation from the University of Michigan\"\n",
    "\n",
    "queries = [test_query_1, test_query_2, test_query_3, test_query_4, test_query_5, test_query_6, test_query_7, test_query_8, test_query_9, test_query_10]\n"
   ]
  },
  {
   "cell_type": "code",
   "execution_count": 44,
   "metadata": {},
   "outputs": [],
   "source": [
    "true_caption_1 = \"Daniel, Santiago, Pipe, are are enjoying an evening with their grandmother, Kika, watching the Michigan game vs. Alabama. Go Blue!\"\n",
    "true_caption_2 = \"Daniel, Julio, Will, Pablo and Javier enjoy their beers in a chilly night in Ann Arbor at Bills Beer Garden. The feeling of comraderie and friendship is palpable amongst them.\"\n",
    "true_caption_3 = \"Daniel, Santiago, Juan, Graciela, and Pipe pose behind a breathtaking snowy mountaintop in Seattle, Washington. They are enjoying their vacation as a happy family.\"\n",
    "true_caption_4 = \"Julio and Azul are having a good time as they both sip from a fishbowl at Charley's in Ann Arbor. The two friends are enjoying their time together.\"\n",
    "true_caption_5 = \"Daniel and Sri ecstatic as the scoreboard behind them spells 'Duke Wins!'. They are jubilant as they pose on the field celebrating a Duke Football win in Durham, North Carolina.\"\n",
    "true_caption_6 = \"Santiago and his mom, Graciela, enjoy a delicious lunch in Seattle, Washington. Graciela flew in from Colomgia to help her son move in. They smile as they enjoy the food and drinks together.\"\n",
    "true_caption_7 = \"Daniel, Santiago, and Will are all smiles as they pose for a picture after a day of skiing at Mount Holly, Michigan. The three friends are enjoying their time together.\"\n",
    "true_caption_8 = \"Santiago and Julio enjoy a delicious dinner at Mani in Ann Arbor. They are having glasses of red wine and a delicious meal together.\"\n",
    "true_caption_9 = \"Javier, Santiago, Daniel, and Julio are all dressed up and ready to go to the Gala in Ann Arbor. They are all smiles as they pose for a picture.\"\n",
    "true_caption_10 = \"Juan, Graciela, Santiago, and Daniel are all smiles as they pose for a picture at Santiago's graduation from the University of Michigan. They are all proud of Santiago's accomplishment.\"\n",
    "\n",
    "true_captions = [true_caption_1, true_caption_2, true_caption_3, true_caption_4, true_caption_5, true_caption_6, true_caption_7, true_caption_8, true_caption_9, true_caption_10]"
   ]
  },
  {
   "cell_type": "markdown",
   "metadata": {},
   "source": [
    "### Generate Response without RAG"
   ]
  },
  {
   "cell_type": "code",
   "execution_count": 45,
   "metadata": {},
   "outputs": [],
   "source": [
    "def generate_no_rag_response(query):\n",
    "    \"\"\"\n",
    "    Generates an openai response to a given query\n",
    "    Input: query\n",
    "    Output: response\n",
    "    \"\"\"\n",
    "    load_dotenv()\n",
    "    client = OpenAI.Client(api_key=os.getenv('OPENAI_API_KEY'))\n",
    "    client = OpenAI.Client(api_key=os.getenv('OPENAI_API_KEY'))\n",
    "\n",
    "    context = \"Generate a relevant caption for the following moment:\"\n",
    "\n",
    "    try:\n",
    "        completion = client.chat.completions.create(\n",
    "        model=\"gpt-3.5-turbo\",\n",
    "        messages=[\n",
    "            {\"role\": \"system\", \"content\": context},\n",
    "            {\"role\": \"user\", \"content\": query}\n",
    "            ]\n",
    "        )\n",
    "        # Get the response from the completion\n",
    "        response = completion.choices[0].message.content\n",
    "\n",
    "        # Check if the reply is empty, indicating the question may be out of context\n",
    "        if not response:\n",
    "            response = \"I am sorry, but I am not equipped to respond to that query.\"\n",
    "    except Exception as e:\n",
    "        print(\"Failed to generate response.\")\n",
    "        print(e)\n",
    "    \n",
    "    return response\n"
   ]
  },
  {
   "cell_type": "markdown",
   "metadata": {},
   "source": [
    "### Generate Response with RAG"
   ]
  },
  {
   "cell_type": "code",
   "execution_count": 46,
   "metadata": {},
   "outputs": [],
   "source": [
    "def generate_rag_response(query):\n",
    "    \"\"\"\n",
    "    Makes a call to RAG Flask app to get the image description that matches the query the most.\n",
    "    Input: query\n",
    "    Output: The text of the last image description in the response.\n",
    "    \"\"\"\n",
    "    url = \"http://127.0.0.1:5000/get_images\"\n",
    "    headers = {\n",
    "        \"Content-Type\": \"application/json\"\n",
    "    }\n",
    "    data = {\n",
    "        \"query\": query\n",
    "    }\n",
    "\n",
    "    response = requests.post(url, json=data, headers=headers)\n",
    "    response_json = response.json()\n",
    "\n",
    "    # Assuming the response structure is {'response': {...}}\n",
    "    descriptions = response_json.get('response', {})\n",
    "\n",
    "    # Getting the last description's text\n",
    "    last_key = list(descriptions.keys())[-1]  # Get the last key\n",
    "    last_description = descriptions[last_key]  # Get the description for the last key\n",
    "\n",
    "    return last_description"
   ]
  },
  {
   "cell_type": "markdown",
   "metadata": {},
   "source": [
    "## Evaluation Pipeline"
   ]
  },
  {
   "cell_type": "code",
   "execution_count": 47,
   "metadata": {},
   "outputs": [],
   "source": [
    "def embed_query(query):\n",
    "    \"\"\"\n",
    "    Encodes a query using BERT tokenizer\n",
    "    Input: list of queries\n",
    "    Output: list of encoded queries\n",
    "    \"\"\"\n",
    "    # Load the BERT model and tokenizer\n",
    "    model = BertModel.from_pretrained('bert-base-uncased')\n",
    "    tokenizer = BertTokenizer.from_pretrained('bert-base-uncased')\n",
    "    # Tokenize the query\n",
    "    tokenized_query = tokenizer(query, padding=True, truncation=True, return_tensors='pt')\n",
    "\n",
    "    # Embed the query\n",
    "    with torch.no_grad():\n",
    "        outputs = model(**tokenized_query)\n",
    "    \n",
    "    # Extract the last hidden states\n",
    "    last_hidden_states = outputs.last_hidden_state\n",
    "\n",
    "    # Take the mean of the last hidden states\n",
    "    mean_embedding = torch.mean(last_hidden_states, dim=1).tolist()[0]\n",
    "\n",
    "    return mean_embedding"
   ]
  },
  {
   "cell_type": "code",
   "execution_count": 48,
   "metadata": {},
   "outputs": [],
   "source": [
    "def cosine_sim(embedding_1, embedding_2):\n",
    "    \"\"\"\n",
    "    Calculates the cosine similarity between two embeddings\n",
    "    Input: two embeddings\n",
    "    Output: cosine similarity\n",
    "    \"\"\"\n",
    "    # Calculate the dot product\n",
    "    dot_product = sum([a*b for a, b in zip(embedding_1, embedding_2)])\n",
    "    # Calculate the magnitude of each vector\n",
    "    magnitude_1 = sum([a**2 for a in embedding_1]) ** 0.5\n",
    "    magnitude_2 = sum([a**2 for a in embedding_2]) ** 0.5\n",
    "\n",
    "    # Calculate the cosine similarity\n",
    "    cosine_similarity = dot_product / (magnitude_1 * magnitude_2)\n",
    "\n",
    "    return cosine_similarity"
   ]
  },
  {
   "cell_type": "code",
   "execution_count": 49,
   "metadata": {},
   "outputs": [],
   "source": [
    "def get_similarity_scores(queries, true_captions):\n",
    "    \"\"\"\n",
    "    Calculate the cosine similarity between captions generated by OpenAI without RAG and true captions.\n",
    "    Calculate the cosine similarity between captions generated by OpenAI with RAG and true captions.\n",
    "    Input: list of queries, list of true captions\n",
    "    Output: cosine similarity scores\n",
    "    \"\"\"\n",
    "    # generate responses without rag\n",
    "    no_rag_responses = [generate_no_rag_response(query) for query in queries]\n",
    "    # embed no_rag_responses\n",
    "    no_rag_embeddings = [embed_query(response) for response in no_rag_responses]\n",
    "\n",
    "    # generate responses with rag\n",
    "    rag_responses = [generate_rag_response(query) for query in queries]\n",
    "    # embed rag_responses\n",
    "    rag_embeddings = [embed_query(response) for response in rag_responses]\n",
    "\n",
    "    # embed true captions\n",
    "    true_caption_embeddings = [embed_query(caption) for caption in true_captions]\n",
    "\n",
    "    # calculate cosine similarity between no_rag_responses and true_captions\n",
    "    no_rag_scores = [cosine_sim(embedding, true_caption_embeddings[i]) for i, embedding in enumerate(no_rag_embeddings)]\n",
    "\n",
    "    # calculate cosine similarity between rag_responses and true_captions\n",
    "    rag_scores = [cosine_sim(embedding, true_caption_embeddings[i]) for i, embedding in enumerate(rag_embeddings)]\n",
    "\n",
    "    return no_rag_scores, rag_scores"
   ]
  },
  {
   "cell_type": "code",
   "execution_count": 50,
   "metadata": {},
   "outputs": [],
   "source": [
    "no_rag_scores, rag_scores = get_similarity_scores(queries, true_captions)"
   ]
  },
  {
   "cell_type": "markdown",
   "metadata": {},
   "source": [
    "## Analyze Results"
   ]
  },
  {
   "cell_type": "code",
   "execution_count": 51,
   "metadata": {},
   "outputs": [],
   "source": [
    "def perform_welchs_t_test(no_rag_scores, rag_scores):\n",
    "    # Perform Welch's t-test\n",
    "    t_statistic, p_value = stats.ttest_ind(no_rag_scores, rag_scores, equal_var=False)\n",
    "    \n",
    "    print(\"Welch's t-test results:\")\n",
    "    print(f\"t-statistic: {t_statistic:.3f}, p-value: {p_value:.3f}\")\n",
    "    \n",
    "    # Interpret the significance\n",
    "    alpha = 0.05  # Common threshold for significance\n",
    "    if p_value < alpha:\n",
    "        print(\"The difference in means between the two groups is statistically significant.\")\n",
    "    else:\n",
    "        print(\"The difference in means between the two groups is not statistically significant.\")"
   ]
  },
  {
   "cell_type": "code",
   "execution_count": 58,
   "metadata": {},
   "outputs": [],
   "source": [
    "def evaluation(no_rag_scores, rag_scores):\n",
    "\n",
    "    # Calculate basic statistics\n",
    "    no_rag_mean = np.mean(no_rag_scores)\n",
    "    rag_mean = np.mean(rag_scores)\n",
    "\n",
    "    no_rag_median = np.median(no_rag_scores)\n",
    "    rag_median = np.median(rag_scores)\n",
    "\n",
    "    # Print statistics\n",
    "    print(\"No RAG Scores - Mean: {:.2f}, Median: {:.2f}\".format(no_rag_mean, no_rag_median))\n",
    "    print(\"RAG Scores - Mean: {:.2f}, Median: {:.2f}\".format(rag_mean, rag_median))\n",
    "    perform_welchs_t_test(no_rag_scores, rag_scores)\n",
    "\n",
    "    # Plotting\n",
    "    plt.figure(figsize=(10, 6))\n",
    "    plt.hist(no_rag_scores, alpha=0.5, label='No RAG Scores')\n",
    "    plt.hist(rag_scores, alpha=0.5, label='RAG Scores')\n",
    "    plt.title('Comparison of Cosine Similarity Scores')\n",
    "    plt.xlabel('Cosine Similarity Score')\n",
    "    plt.ylabel('Frequency')\n",
    "    plt.legend(loc='upper right')\n",
    "    plt.grid(True)\n",
    "    plt.show()"
   ]
  },
  {
   "cell_type": "code",
   "execution_count": 59,
   "metadata": {},
   "outputs": [
    {
     "name": "stdout",
     "output_type": "stream",
     "text": [
      "No RAG Scores - Mean: 0.73, Median: 0.74\n",
      "RAG Scores - Mean: 0.83, Median: 0.84\n",
      "Welch's t-test results:\n",
      "t-statistic: -5.491, p-value: 0.000\n",
      "The difference in means between the two groups is statistically significant.\n"
     ]
    },
    {
     "data": {
      "image/png": "[encoded data removed]",
      "text/plain": [
       "<Figure size 1000x600 with 1 Axes>"
      ]
     },
     "metadata": {},
     "output_type": "display_data"
    }
   ],
   "source": [
    "evaluation(no_rag_scores, rag_scores)"
   ]
  },
  {
   "cell_type": "code",
   "execution_count": null,
   "metadata": {},
   "outputs": [],
   "source": []
  }
 ],
 "metadata": {
  "kernelspec": {
   "display_name": "env",
   "language": "python",
   "name": "python3"
  },
  "language_info": {
   "codemirror_mode": {
    "name": "ipython",
    "version": 3
   },
   "file_extension": ".py",
   "mimetype": "text/x-python",
   "name": "python",
   "nbconvert_exporter": "python",
   "pygments_lexer": "ipython3",
   "version": "3.11.7"
  },
  "orig_nbformat": 4
 },
 "nbformat": 4,
 "nbformat_minor": 2
}
